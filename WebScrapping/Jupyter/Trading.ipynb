{
 "cells": [
  {
   "cell_type": "code",
   "execution_count": 3,
   "metadata": {},
   "outputs": [],
   "source": [
    "from tkinter import *\n",
    "from pandastable import Table, TableModel\n",
    "\n",
    "class TestApp(Frame):\n",
    "        \"\"\"Basic test frame for the table\"\"\"\n",
    "        def __init__(self, parent=None):\n",
    "            self.parent = parent\n",
    "            Frame.__init__(self)\n",
    "            self.main = self.master\n",
    "            self.main.geometry('600x400+200+100')\n",
    "            self.main.title('Table app')\n",
    "            f = Frame(self.main)\n",
    "            f.pack(fill=BOTH,expand=1)\n",
    "            df = TableModel.getSampleData()\n",
    "            self.table = pt = Table(f, dataframe=df,\n",
    "                                    showtoolbar=True, showstatusbar=True)\n",
    "            pt.show()\n",
    "            return\n",
    "\n",
    "app = TestApp()\n",
    "#launch the app\n",
    "app.mainloop()"
   ]
  },
  {
   "cell_type": "code",
   "execution_count": null,
   "metadata": {},
   "outputs": [],
   "source": []
  }
 ],
 "metadata": {
  "kernelspec": {
   "display_name": "Python 3",
   "language": "python",
   "name": "python3"
  },
  "language_info": {
   "codemirror_mode": {
    "name": "ipython",
    "version": 3
   },
   "file_extension": ".py",
   "mimetype": "text/x-python",
   "name": "python",
   "nbconvert_exporter": "python",
   "pygments_lexer": "ipython3",
   "version": "3.7.6"
  }
 },
 "nbformat": 4,
 "nbformat_minor": 4
}
