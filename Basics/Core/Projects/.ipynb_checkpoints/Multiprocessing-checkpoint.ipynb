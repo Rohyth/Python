{
 "cells": [
  {
   "cell_type": "code",
   "execution_count": 9,
   "metadata": {},
   "outputs": [],
   "source": [
    "import time\n",
    "import multiprocessing"
   ]
  },
  {
   "cell_type": "code",
   "execution_count": 8,
   "metadata": {
    "collapsed": true
   },
   "outputs": [
    {
     "name": "stdout",
     "output_type": "stream",
     "text": [
      "Sleeping 1 Sec\n",
      "Sleeping Complete\n",
      "Sleeping 1 Sec\n",
      "Sleeping Complete\n",
      "Finished in 2.01 seconds\n"
     ]
    }
   ],
   "source": [
    "start = time.perf_counter()\n",
    "\n",
    "def do_something():\n",
    "    print('Sleeping 1 Sec')\n",
    "    time.sleep(1)\n",
    "    print('Sleeping Complete')\n",
    "    \n",
    "do_something()\n",
    "do_something()\n",
    "\n",
    "\n",
    "finish = time.perf_counter()\n",
    "print(f'Finished in {round(finish-start,2)} seconds')"
   ]
  },
  {
   "cell_type": "code",
   "execution_count": 12,
   "metadata": {
    "collapsed": true
   },
   "outputs": [
    {
     "name": "stdout",
     "output_type": "stream",
     "text": [
      "Sleeping 1 Sec\n",
      "Sleeping 1 Sec\n",
      "Sleeping Complete\n",
      "Sleeping Complete\n",
      "Finished in 1.05 seconds\n"
     ]
    }
   ],
   "source": [
    "# Example for multiprocessing , also imported lib multiprocessing\n",
    "start = time.perf_counter()\n",
    "\n",
    "def do_something():\n",
    "    print('Sleeping 1 Sec')\n",
    "    time.sleep(1)\n",
    "    print('Sleeping Complete')\n",
    "    \n",
    "t1 = multiprocessing.Process(target=do_something)\n",
    "t2 = multiprocessing.Process(target=do_something)\n",
    "\n",
    "t1.start() #use this start method to initiate a task '\n",
    "t2.start()\n",
    "\n",
    "t1.join()\n",
    "t2.join() #use this join method to stop execution till the task is completed'\n",
    "\n",
    "finish = time.perf_counter()\n",
    "print(f'Finished in {round(finish-start,2)} seconds')"
   ]
  },
  {
   "cell_type": "code",
   "execution_count": 13,
   "metadata": {
    "collapsed": true
   },
   "outputs": [
    {
     "name": "stdout",
     "output_type": "stream",
     "text": [
      "Sleeping 1 Sec\n",
      "Sleeping 1 Sec\n",
      "Sleeping 1 Sec\n",
      "Sleeping 1 Sec\n",
      "Sleeping 1 Sec\n",
      "Sleeping 1 Sec\n",
      "Sleeping 1 Sec\n",
      "Sleeping 1 Sec\n",
      "Sleeping 1 Sec\n",
      "Sleeping 1 Sec\n",
      "Sleeping Complete\n",
      "Sleeping Complete\n",
      "Sleeping Complete\n",
      "Sleeping Complete\n",
      "Sleeping Complete\n",
      "Sleeping Complete\n",
      "Sleeping Complete\n",
      "Sleeping Complete\n",
      "Sleeping Complete\n",
      "Sleeping Complete\n",
      "Finished in 1.15 seconds\n"
     ]
    }
   ],
   "source": [
    "# Example to run 10 processes at same time\n",
    "\n",
    "start = time.perf_counter()\n",
    "\n",
    "def do_something():\n",
    "    print('Sleeping 1 Sec')\n",
    "    time.sleep(1)\n",
    "    print('Sleeping Complete')\n",
    "    \n",
    "processes = []\n",
    "for _ in range(10): # _ is used to indicate that no int or variable assigned with loop will be used\n",
    "    p = multiprocessing.Process(target=do_something)\n",
    "    p.start()\n",
    "    processes.append(p)\n",
    "\n",
    "for process in processes:\n",
    "    process.join()\n",
    "    \n",
    "finish = time.perf_counter()\n",
    "print(f'Finished in {round(finish-start,2)} seconds')\n"
   ]
  },
  {
   "cell_type": "code",
   "execution_count": 14,
   "metadata": {},
   "outputs": [
    {
     "name": "stdout",
     "output_type": "stream",
     "text": [
      "Sleeping 1.5 sec(s)\n",
      "Sleeping 1.5 sec(s)\n",
      "Sleeping 1.5 sec(s)\n",
      "Sleeping 1.5 sec(s)\n",
      "Sleeping 1.5 sec(s)\n",
      "Sleeping 1.5 sec(s)\n",
      "Sleeping 1.5 sec(s)\n",
      "Sleeping 1.5 sec(s)\n",
      "Sleeping 1.5 sec(s)\n",
      "Sleeping 1.5 sec(s)\n",
      "Sleeping Complete\n",
      "Sleeping Complete\n",
      "Sleeping Complete\n",
      "Sleeping Complete\n",
      "Sleeping Complete\n",
      "Sleeping Complete\n",
      "Sleeping Complete\n",
      "Sleeping Complete\n",
      "Sleeping Complete\n",
      "Sleeping Complete\n",
      "Finished in 1.66 seconds\n"
     ]
    }
   ],
   "source": [
    "# sending arguments to functions and using with multiprocessing\n",
    "\n",
    "start = time.perf_counter()\n",
    "\n",
    "def do_something(seconds):\n",
    "    print(f'Sleeping {seconds} sec(s)')\n",
    "    time.sleep(seconds)\n",
    "    print('Sleeping Complete')\n",
    "    \n",
    "processes = []\n",
    "for _ in range(10): \n",
    "    p = multiprocessing.Process(target=do_something, args=[1.5])\n",
    "    p.start()\n",
    "    processes.append(p)\n",
    "\n",
    "for process in processes:\n",
    "    process.join()\n",
    "    \n",
    "finish = time.perf_counter()\n",
    "print(f'Finished in {round(finish-start,2)} seconds')"
   ]
  },
  {
   "cell_type": "code",
   "execution_count": 18,
   "metadata": {},
   "outputs": [
    {
     "name": "stdout",
     "output_type": "stream",
     "text": [
      "Sleeping 1 sec(s)\n",
      "Sleeping 1 sec(s)\n",
      "Sleeping Complete\n",
      "Sleeping Complete\n",
      "None\n",
      "Finished in 1.09 seconds\n"
     ]
    }
   ],
   "source": [
    "# Using Core processesors for task handling \n",
    "import concurrent.futures\n",
    "start = time.perf_counter()\n",
    "\n",
    "def do_something(seconds):\n",
    "    print(f'Sleeping {seconds} sec(s)')\n",
    "    time.sleep(seconds)\n",
    "    print('Sleeping Complete')\n",
    "    \n",
    "with concurrent.futures.ProcessPoolExecutor() as executor:\n",
    "    f1 = executor.submit(do_something,1)\n",
    "    f2 = executor.submit(do_something,1)\n",
    "    print(f1.result())\n",
    "\n",
    "finish = time.perf_counter()\n",
    "print(f'Finished in {round(finish-start,2)} seconds')"
   ]
  },
  {
   "cell_type": "code",
   "execution_count": 21,
   "metadata": {},
   "outputs": [
    {
     "name": "stdout",
     "output_type": "stream",
     "text": [
      "Sleeping 1 sec(s)\n",
      "Sleeping 1 sec(s)\n",
      "Sleeping 1 sec(s)\n",
      "Sleeping 1 sec(s)\n",
      "Sleeping 1 sec(s)\n",
      "Sleeping 1 sec(s)\n",
      "Sleeping 1 sec(s)\n",
      "Sleeping 1 sec(s)\n",
      "Done Sleeping\n",
      "Done Sleeping\n",
      "Done Sleeping\n",
      "Done Sleeping\n",
      "Sleeping 1 sec(s)\n",
      "Sleeping 1 sec(s)\n",
      "Done Sleeping\n",
      "Done Sleeping\n",
      "Done Sleeping\n",
      "Done Sleeping\n",
      "Done Sleeping\n",
      "Done Sleeping\n",
      "Finished in 3.09 seconds\n"
     ]
    }
   ],
   "source": [
    "# run multiple tasks using core processesors\n",
    "start = time.perf_counter()\n",
    "\n",
    "def do_something(seconds):\n",
    "    print(f'Sleeping {seconds} sec(s)')\n",
    "    time.sleep(seconds)\n",
    "    return 'Done Sleeping'\n",
    "    \n",
    "with concurrent.futures.ProcessPoolExecutor() as executor:\n",
    "    results = [executor.submit(do_something,1) for _ in range(10)]\n",
    "    \n",
    "    for f in concurrent.futures.as_completed(results):\n",
    "        print(f.result())\n",
    "    \n",
    "\n",
    "finish = time.perf_counter()\n",
    "print(f'Finished in {round(finish-start,2)} seconds')"
   ]
  },
  {
   "cell_type": "code",
   "execution_count": 23,
   "metadata": {},
   "outputs": [
    {
     "name": "stdout",
     "output_type": "stream",
     "text": [
      "Sleeping 5 sec(s)\n",
      "Sleeping 4 sec(s)\n",
      "Sleeping 3 sec(s)\n",
      "Sleeping 2 sec(s)\n",
      "Sleeping 1 sec(s)\n",
      "Done Sleeping ...2\n",
      "Done Sleeping ...3\n",
      "Done Sleeping ...1\n",
      "Done Sleeping ...4\n",
      "Done Sleeping ...5\n",
      "Finished in 5.08 seconds\n"
     ]
    }
   ],
   "source": [
    "start = time.perf_counter()\n",
    "\n",
    "def do_something(seconds):\n",
    "    print(f'Sleeping {seconds} sec(s)')\n",
    "    time.sleep(seconds)\n",
    "    return f'Done Sleeping ...{seconds}'\n",
    "    \n",
    "with concurrent.futures.ProcessPoolExecutor() as executor:\n",
    "    secs = [5,4,3,2,1]\n",
    "    results = [executor.submit(do_something,sec) for sec in secs]\n",
    "    \n",
    "    for f in concurrent.futures.as_completed(results):\n",
    "        print(f.result())\n",
    "\n",
    "finish = time.perf_counter()\n",
    "print(f'Finished in {round(finish-start,2)} seconds')"
   ]
  },
  {
   "cell_type": "code",
   "execution_count": 24,
   "metadata": {},
   "outputs": [
    {
     "name": "stdout",
     "output_type": "stream",
     "text": [
      "Sleeping 5 sec(s)\n",
      "Sleeping 3 sec(s)\n",
      "Sleeping 4 sec(s)\n",
      "Sleeping 2 sec(s)\n",
      "Sleeping 1 sec(s)\n",
      "Finished in 5.08 seconds\n"
     ]
    }
   ],
   "source": [
    "# using map method for iterating a function over a list\n",
    "start = time.perf_counter()\n",
    "\n",
    "def do_something(seconds):\n",
    "    print(f'Sleeping {seconds} sec(s)')\n",
    "    time.sleep(seconds)\n",
    "    return f'Done Sleeping ...{seconds}'\n",
    "    \n",
    "with concurrent.futures.ProcessPoolExecutor() as executor:\n",
    "    secs = [5,4,3,2,1]\n",
    "    results = executor.map(do_something,secs)\n",
    "\n",
    "finish = time.perf_counter()\n",
    "print(f'Finished in {round(finish-start,2)} seconds')\n"
   ]
  },
  {
   "cell_type": "code",
   "execution_count": 30,
   "metadata": {},
   "outputs": [
    {
     "name": "stdout",
     "output_type": "stream",
     "text": [
      "photo-1516117172878-fd2c41f4a759.jpg was processed...\n",
      "photo-1524429656589-6633a470097c.jpg was processed...\n",
      "photo-1530224264768-7ff8c1789d79.jpg was processed...\n",
      "photo-1532009324734-20a7a5813719.jpg was processed...\n",
      "photo-1564135624576-c5c88640f235.jpg was processed...\n",
      "photo-1507143550189-fed454f93097.jpg was processed...\n",
      "photo-1522364723953-452d3431c267.jpg was processed...\n",
      "photo-1541698444083-023c97d3f4b6.jpg was processed...\n",
      "photo-1513938709626-033611b8cc03.jpg was processed...\n",
      "photo-1516972810927-80185027ca84.jpg was processed...\n",
      "photo-1530122037265-a5f1f91d3b99.jpg was processed...\n",
      "photo-1504198453319-5ce911bafcde.jpg was processed...\n",
      "photo-1493976040374-85c8e12f0c0e.jpg was processed...\n",
      "photo-1550439062-609e1531270e.jpg was processed...\n",
      "photo-1549692520-acc6669e2f0c.jpg was processed...\n",
      "Finished in 17.26888904400039 seconds\n"
     ]
    }
   ],
   "source": [
    "# Live Example\n",
    "\n",
    "import time\n",
    "import concurrent.futures\n",
    "from PIL import Image, ImageFilter\n",
    "\n",
    "img_names = [\n",
    "    'photo-1516117172878-fd2c41f4a759.jpg',\n",
    "    'photo-1532009324734-20a7a5813719.jpg',\n",
    "    'photo-1524429656589-6633a470097c.jpg',\n",
    "    'photo-1530224264768-7ff8c1789d79.jpg',\n",
    "    'photo-1564135624576-c5c88640f235.jpg',\n",
    "    'photo-1541698444083-023c97d3f4b6.jpg',\n",
    "    'photo-1522364723953-452d3431c267.jpg',\n",
    "    'photo-1513938709626-033611b8cc03.jpg',\n",
    "    'photo-1507143550189-fed454f93097.jpg',\n",
    "    'photo-1493976040374-85c8e12f0c0e.jpg',\n",
    "    'photo-1504198453319-5ce911bafcde.jpg',\n",
    "    'photo-1530122037265-a5f1f91d3b99.jpg',\n",
    "    'photo-1516972810927-80185027ca84.jpg',\n",
    "    'photo-1550439062-609e1531270e.jpg',\n",
    "    'photo-1549692520-acc6669e2f0c.jpg'\n",
    "]\n",
    "\n",
    "t1 = time.perf_counter()\n",
    "\n",
    "size = (1200, 1200)\n",
    "\n",
    "\n",
    "def process_image(img_name):\n",
    "    img = Image.open(img_name)\n",
    "    img = img.filter(ImageFilter.GaussianBlur(15))\n",
    "\n",
    "    img.thumbnail(size)\n",
    "    img.save(f'/home/rohyth/Python/Basics/Core/Projects/Images/{img_name}')\n",
    "    print(f'{img_name} was processed...')\n",
    "\n",
    "\n",
    "with concurrent.futures.ProcessPoolExecutor() as executor:\n",
    "    executor.map(process_image, img_names)\n",
    "\n",
    "\n",
    "t2 = time.perf_counter()\n",
    "\n",
    "print(f'Finished in {t2-t1} seconds')"
   ]
  },
  {
   "cell_type": "code",
   "execution_count": null,
   "metadata": {},
   "outputs": [],
   "source": []
  }
 ],
 "metadata": {
  "kernelspec": {
   "display_name": "Python 3",
   "language": "python",
   "name": "python3"
  },
  "language_info": {
   "codemirror_mode": {
    "name": "ipython",
    "version": 3
   },
   "file_extension": ".py",
   "mimetype": "text/x-python",
   "name": "python",
   "nbconvert_exporter": "python",
   "pygments_lexer": "ipython3",
   "version": "3.7.6"
  }
 },
 "nbformat": 4,
 "nbformat_minor": 4
}
