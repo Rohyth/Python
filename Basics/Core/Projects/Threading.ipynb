{
 "cells": [
  {
   "cell_type": "code",
   "execution_count": 4,
   "metadata": {},
   "outputs": [],
   "source": [
    "import time\n",
    "import threading"
   ]
  },
  {
   "cell_type": "code",
   "execution_count": 3,
   "metadata": {
    "collapsed": true
   },
   "outputs": [
    {
     "name": "stdout",
     "output_type": "stream",
     "text": [
      "Sleeping 1 Sec\n",
      "Sleeping Complete\n",
      "Finished in 1.0 seconds\n"
     ]
    }
   ],
   "source": [
    "start = time.perf_counter()\n",
    "\n",
    "def do_something():\n",
    "    print('Sleeping 1 Sec')\n",
    "    time.sleep(1)\n",
    "    print('Sleeping Complete')\n",
    "    \n",
    "do_something()\n",
    "do_something()\n",
    "\n",
    "finish = time.perf_counter()\n",
    "print(f'Finished in {round(finish-start,2)} seconds')"
   ]
  },
  {
   "cell_type": "code",
   "execution_count": 7,
   "metadata": {
    "collapsed": true
   },
   "outputs": [
    {
     "name": "stdout",
     "output_type": "stream",
     "text": [
      "Sleeping 1 Sec\n",
      "Sleeping 1 Sec\n",
      "Sleeping Complete\n",
      "Sleeping Complete\n",
      "Finished in 1.01 seconds\n"
     ]
    }
   ],
   "source": [
    "start = time.perf_counter()\n",
    "\n",
    "def do_something():\n",
    "    print('Sleeping 1 Sec')\n",
    "    time.sleep(1)\n",
    "    print('Sleeping Complete')\n",
    "    \n",
    "t1 = threading.Thread(target=do_something)\n",
    "t2 = threading.Thread(target=do_something)\n",
    "\n",
    "t1.start()\n",
    "t2.start()\n",
    "\n",
    "t1.join()\n",
    "t2.join()\n",
    "\n",
    "finish = time.perf_counter()\n",
    "print(f'Finished in {round(finish-start,2)} seconds')"
   ]
  },
  {
   "cell_type": "code",
   "execution_count": 9,
   "metadata": {
    "collapsed": true
   },
   "outputs": [
    {
     "name": "stdout",
     "output_type": "stream",
     "text": [
      "Sleeping 2 Sec(s)Sleeping 2 Sec(s)\n",
      "\n",
      "Sleeping 2 Sec(s)\n",
      "Sleeping 2 Sec(s)\n",
      "Sleeping 2 Sec(s)\n",
      "Sleeping 2 Sec(s)\n",
      "Sleeping 2 Sec(s)\n",
      "Sleeping 2 Sec(s)\n",
      "Sleeping 2 Sec(s)\n",
      "Sleeping 2 Sec(s)\n",
      "Sleeping Complete . . .\n",
      "Sleeping Complete . . .\n",
      "Sleeping Complete . . .\n",
      "Sleeping Complete . . .\n",
      "Sleeping Complete . . .\n",
      "Sleeping Complete . . .\n",
      "Sleeping Complete . . .\n",
      "Sleeping Complete . . .Sleeping Complete . . .\n",
      "\n",
      "Sleeping Complete . . .\n",
      "Finished in 2.03 seconds\n"
     ]
    }
   ],
   "source": [
    "# Example with 10 tasks\n",
    "start = time.perf_counter()\n",
    "\n",
    "def do_something(secs):\n",
    "    print(f'Sleeping {secs} Sec(s)')\n",
    "    time.sleep(secs)\n",
    "    print('Sleeping Complete . . .')\n",
    "\n",
    "Threads = []    \n",
    "for _ in range(10):\n",
    "    t =threading.Thread(target=do_something, args=[2])\n",
    "    t.start()\n",
    "    Threads.append(t)\n",
    "\n",
    "for thread in Threads:\n",
    "    thread.join()\n",
    "\n",
    "finish = time.perf_counter()\n",
    "print(f'Finished in {round(finish-start,2)} seconds')\n"
   ]
  },
  {
   "cell_type": "code",
   "execution_count": 13,
   "metadata": {
    "collapsed": true
   },
   "outputs": [
    {
     "name": "stdout",
     "output_type": "stream",
     "text": [
      "Sleeping 1 Sec(s)Sleeping 1 Sec(s)\n",
      "Sleeping 1 Sec(s)\n",
      "\n",
      "Sleeping 1 Sec(s)\n",
      "Sleeping 1 Sec(s)\n",
      "Sleeping 1 Sec(s)\n",
      "Sleeping 1 Sec(s)Sleeping 1 Sec(s)\n",
      "\n",
      "Sleeping 1 Sec(s)\n",
      "Sleeping 1 Sec(s)\n",
      "Sleeping Complete . . .\n",
      "Sleeping Complete . . .\n",
      "Sleeping Complete . . .\n",
      "Sleeping Complete . . .\n",
      "Sleeping Complete . . .\n",
      "Sleeping Complete . . .\n",
      "Sleeping Complete . . .\n",
      "Sleeping Complete . . .\n",
      "Sleeping Complete . . .\n",
      "Sleeping Complete . . .\n",
      "Finished in 1.03 seconds\n"
     ]
    }
   ],
   "source": [
    "import concurrent.futures\n",
    "\n",
    "# Example with 10 tasks\n",
    "start = time.perf_counter()\n",
    "\n",
    "def do_something(secs):\n",
    "    print(f'Sleeping {secs} Sec(s)')\n",
    "    time.sleep(secs)\n",
    "    return 'Sleeping Complete . . .'\n",
    "\n",
    "with concurrent.futures.ThreadPoolExecutor() as executor:\n",
    "    th = [executor.submit(do_something,1) for _ in range(10)]\n",
    "    \n",
    "for f in concurrent.futures.as_completed(th):\n",
    "    print(f.result())\n",
    "\n",
    "finish = time.perf_counter()\n",
    "print(f'Finished in {round(finish-start,2)} seconds')\n"
   ]
  },
  {
   "cell_type": "code",
   "execution_count": 14,
   "metadata": {
    "collapsed": true
   },
   "outputs": [
    {
     "name": "stdout",
     "output_type": "stream",
     "text": [
      "Sleeping 5 Sec(s)\n",
      "Sleeping 4 Sec(s)\n",
      "Sleeping 3 Sec(s)\n",
      "Sleeping 2 Sec(s)Sleeping 1 Sec(s)\n",
      "\n",
      "Sleeping Complete . . .5\n",
      "Sleeping Complete . . .4\n",
      "Sleeping Complete . . .1\n",
      "Sleeping Complete . . .2\n",
      "Sleeping Complete . . .3\n",
      "Finished in 5.01 seconds\n"
     ]
    }
   ],
   "source": [
    "import concurrent.futures\n",
    "\n",
    "# Example with 10 tasks\n",
    "start = time.perf_counter()\n",
    "\n",
    "def do_something(secs):\n",
    "    print(f'Sleeping {secs} Sec(s)')\n",
    "    time.sleep(secs)\n",
    "    return f'Sleeping Complete . . .{secs}'\n",
    "\n",
    "seconds = [5,4,3,2,1]\n",
    "with concurrent.futures.ThreadPoolExecutor() as executor:\n",
    "    th = [executor.submit(do_something,sec) for sec in seconds]\n",
    "    \n",
    "for f in concurrent.futures.as_completed(th):\n",
    "    print(f.result())\n",
    "\n",
    "finish = time.perf_counter()\n",
    "print(f'Finished in {round(finish-start,2)} seconds')\n"
   ]
  },
  {
   "cell_type": "code",
   "execution_count": 15,
   "metadata": {
    "collapsed": true
   },
   "outputs": [
    {
     "name": "stdout",
     "output_type": "stream",
     "text": [
      "Sleeping 5 Sec(s)\n",
      "Sleeping 4 Sec(s)\n",
      "Sleeping 3 Sec(s)Sleeping 2 Sec(s)\n",
      "\n",
      "Sleeping 1 Sec(s)\n",
      "Sleeping Complete . . .5\n",
      "Sleeping Complete . . .4\n",
      "Sleeping Complete . . .3\n",
      "Sleeping Complete . . .2\n",
      "Sleeping Complete . . .1\n",
      "Finished in 5.01 seconds\n"
     ]
    }
   ],
   "source": [
    "import concurrent.futures\n",
    "\n",
    "# Example with 10 tasks\n",
    "start = time.perf_counter()\n",
    "\n",
    "def do_something(secs):\n",
    "    print(f'Sleeping {secs} Sec(s)')\n",
    "    time.sleep(secs)\n",
    "    return f'Sleeping Complete . . .{secs}'\n",
    "\n",
    "seconds = [5,4,3,2,1]\n",
    "with concurrent.futures.ThreadPoolExecutor() as executor:\n",
    "    results = executor.map(do_something,seconds)\n",
    "\n",
    "for r in results:\n",
    "    print(r)\n",
    "\n",
    "finish = time.perf_counter()\n",
    "print(f'Finished in {round(finish-start,2)} seconds')\n"
   ]
  },
  {
   "cell_type": "code",
   "execution_count": 18,
   "metadata": {
    "collapsed": true
   },
   "outputs": [
    {
     "name": "stdout",
     "output_type": "stream",
     "text": [
      "/home/rohyth/Python/Basics/Core/Projects/Images/photo-1516117172878-fd2c41f4a759.jpg was downloaded...\n",
      "/home/rohyth/Python/Basics/Core/Projects/Images/photo-1507143550189-fed454f93097.jpg was downloaded...\n",
      "/home/rohyth/Python/Basics/Core/Projects/Images/photo-1549692520-acc6669e2f0c.jpg was downloaded...\n",
      "/home/rohyth/Python/Basics/Core/Projects/Images/photo-1564135624576-c5c88640f235.jpg was downloaded...\n",
      "/home/rohyth/Python/Basics/Core/Projects/Images/photo-1516972810927-80185027ca84.jpg was downloaded...\n",
      "/home/rohyth/Python/Basics/Core/Projects/Images/photo-1522364723953-452d3431c267.jpg was downloaded...\n",
      "/home/rohyth/Python/Basics/Core/Projects/Images/photo-1550439062-609e1531270e.jpg was downloaded...\n",
      "/home/rohyth/Python/Basics/Core/Projects/Images/photo-1530224264768-7ff8c1789d79.jpg was downloaded...\n",
      "/home/rohyth/Python/Basics/Core/Projects/Images/photo-1524429656589-6633a470097c.jpg was downloaded...\n",
      "/home/rohyth/Python/Basics/Core/Projects/Images/photo-1530122037265-a5f1f91d3b99.jpg was downloaded...\n",
      "/home/rohyth/Python/Basics/Core/Projects/Images/photo-1504198453319-5ce911bafcde.jpg was downloaded...\n",
      "/home/rohyth/Python/Basics/Core/Projects/Images/photo-1541698444083-023c97d3f4b6.jpg was downloaded...\n",
      "/home/rohyth/Python/Basics/Core/Projects/Images/photo-1513938709626-033611b8cc03.jpg was downloaded...\n",
      "/home/rohyth/Python/Basics/Core/Projects/Images/photo-1532009324734-20a7a5813719.jpg was downloaded...\n",
      "/home/rohyth/Python/Basics/Core/Projects/Images/photo-1493976040374-85c8e12f0c0e.jpg was downloaded...\n",
      "Finished in 14.096225434001099 seconds\n"
     ]
    }
   ],
   "source": [
    "#live Example\n",
    "import requests\n",
    "import time\n",
    "import concurrent.futures\n",
    "\n",
    "img_urls = [\n",
    "    'https://images.unsplash.com/photo-1516117172878-fd2c41f4a759',\n",
    "    'https://images.unsplash.com/photo-1532009324734-20a7a5813719',\n",
    "    'https://images.unsplash.com/photo-1524429656589-6633a470097c',\n",
    "    'https://images.unsplash.com/photo-1530224264768-7ff8c1789d79',\n",
    "    'https://images.unsplash.com/photo-1564135624576-c5c88640f235',\n",
    "    'https://images.unsplash.com/photo-1541698444083-023c97d3f4b6',\n",
    "    'https://images.unsplash.com/photo-1522364723953-452d3431c267',\n",
    "    'https://images.unsplash.com/photo-1513938709626-033611b8cc03',\n",
    "    'https://images.unsplash.com/photo-1507143550189-fed454f93097',\n",
    "    'https://images.unsplash.com/photo-1493976040374-85c8e12f0c0e',\n",
    "    'https://images.unsplash.com/photo-1504198453319-5ce911bafcde',\n",
    "    'https://images.unsplash.com/photo-1530122037265-a5f1f91d3b99',\n",
    "    'https://images.unsplash.com/photo-1516972810927-80185027ca84',\n",
    "    'https://images.unsplash.com/photo-1550439062-609e1531270e',\n",
    "    'https://images.unsplash.com/photo-1549692520-acc6669e2f0c'\n",
    "]\n",
    "\n",
    "t1 = time.perf_counter()\n",
    "\n",
    "\n",
    "#for image_url in img_urls:\n",
    "def download_image(img_url):\n",
    "    img_bytes = requests.get(img_url).content\n",
    "    img_name = img_url.split('/')[3]\n",
    "    img_name = f'/home/rohyth/Python/Basics/Core/Projects/Images/{img_name}.jpg'\n",
    "    with open(img_name, 'wb') as img_file:\n",
    "        img_file.write(img_bytes)\n",
    "        print(f'{img_name} was downloaded...')\n",
    "\n",
    "with concurrent.futures.ThreadPoolExecutor() as executor:\n",
    "    executor.map(download_image, img_urls)\n",
    "\n",
    "t2 = time.perf_counter()\n",
    "print(f'Finished in {t2-t1} seconds')"
   ]
  },
  {
   "cell_type": "code",
   "execution_count": null,
   "metadata": {},
   "outputs": [],
   "source": []
  }
 ],
 "metadata": {
  "kernelspec": {
   "display_name": "Python 3",
   "language": "python",
   "name": "python3"
  },
  "language_info": {
   "codemirror_mode": {
    "name": "ipython",
    "version": 3
   },
   "file_extension": ".py",
   "mimetype": "text/x-python",
   "name": "python",
   "nbconvert_exporter": "python",
   "pygments_lexer": "ipython3",
   "version": "3.7.6"
  }
 },
 "nbformat": 4,
 "nbformat_minor": 4
}
